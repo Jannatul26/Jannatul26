{
  "nbformat": 4,
  "nbformat_minor": 0,
  "metadata": {
    "colab": {
      "provenance": [],
      "authorship_tag": "ABX9TyO6Q0ZboM8BiiUe1wqDpM/d",
      "include_colab_link": true
    },
    "kernelspec": {
      "name": "python3",
      "display_name": "Python 3"
    },
    "language_info": {
      "name": "python"
    }
  },
  "cells": [
    {
      "cell_type": "markdown",
      "metadata": {
        "id": "view-in-github",
        "colab_type": "text"
      },
      "source": [
        "<a href=\"https://colab.research.google.com/github/Jannatul26/Jannatul26/blob/main/movies.ipynb\" target=\"_parent\"><img src=\"https://colab.research.google.com/assets/colab-badge.svg\" alt=\"Open In Colab\"/></a>"
      ]
    },
    {
      "cell_type": "code",
      "execution_count": null,
      "metadata": {
        "id": "pL2Z-MnH1JuN"
      },
      "outputs": [],
      "source": []
    },
    {
      "cell_type": "markdown",
      "source": [
        "Loading the dataset:\n",
        "First, you need to upload the \"movies.csv\" file to your Google Colab environment. Then, you can load the data using pandas and view the first few rows to get an overview of the dataset."
      ],
      "metadata": {
        "id": "qoef_NNR1bmy"
      }
    },
    {
      "cell_type": "code",
      "source": [
        "import pandas as pd\n",
        "\n",
        "# Load the dataset\n",
        "url = 'path_to_movies.csv_file_on_your_colab_environment'\n",
        "dataSet = pd.read_csv(url)\n",
        "\n",
        "# View the first few rows\n",
        "dataSet.head()\n"
      ],
      "metadata": {
        "id": "KsDHUezT1dqB"
      },
      "execution_count": null,
      "outputs": []
    }
  ]
}